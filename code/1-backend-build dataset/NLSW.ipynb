{
 "cells": [
  {
   "cell_type": "code",
   "execution_count": 1,
   "metadata": {},
   "outputs": [],
   "source": [
    "import pandas as pd\n",
    "import numpy as np\n",
    "import json\n",
    "import os\n",
    "\n",
    "import warnings\n",
    "warnings.filterwarnings(\"ignore\")"
   ]
  },
  {
   "cell_type": "code",
   "execution_count": 17,
   "metadata": {},
   "outputs": [],
   "source": [
    "os.chdir(r\"D:\\A李杜若\\留学\\科研\\可视化_王懿芳学姐\\CFPS\\NLS\\NLSW\")"
   ]
  },
  {
   "cell_type": "code",
   "execution_count": 18,
   "metadata": {},
   "outputs": [],
   "source": [
    "d = {}\n",
    "d['person_id']=''\n",
    "d['basic_info']={\"gender\":\"\",\n",
    "                 \"age\":0, #birth_year\n",
    "                  \"race\":\"\"}\n",
    "\n",
    "d[\"education\"] = { \n",
    "          \"year\":0,\n",
    "          \"highest_education_rank\":\"\"\n",
    "        }\n",
    "\n",
    "d[\"life_sequence\"] =  []\n",
    "ls = { \"year\":0,\n",
    "    \"marriage_status\":\"\",\n",
    "    \"marriage_status_change\":False,\n",
    "    \"childbearing_status\":True,\n",
    "    \"child_under_18\":True,\n",
    "    'child_under_18_status_change':None, #0,1,2\n",
    "    \"residence\":\"\",\n",
    "    \"migration_status\":True,\n",
    "    \n",
    "    \"isWorking\":True,\n",
    "    \"income\":0,\n",
    "    \"occupation\":0\n",
    "  }\n",
    "\n",
    "d[\"spouse_info\"]= {\n",
    "  \"spouse_id\":\"\",\n",
    "  \"spouse_age\":0,\n",
    "  \"spouse_race\":\"\",\n",
    "  \"spouse_education\": {\n",
    "    \"year\",\n",
    "    \"highest_education_rank\",\n",
    "  },\n",
    "  \"spouse_first_job\": {\n",
    "    \"year\":0,\n",
    "    \"income\":0,\n",
    "    \"occupation\":0,\n",
    "  },\n",
    "  \"spouse_life_sequence\":[]\n",
    "}"
   ]
  },
  {
   "cell_type": "markdown",
   "metadata": {},
   "source": [
    "## input"
   ]
  },
  {
   "cell_type": "code",
   "execution_count": 19,
   "metadata": {},
   "outputs": [],
   "source": [
    "basic_info = pd.read_csv(\"./basic_info.csv\")\n",
    "edu_info = pd.read_csv(\"./edu_info.csv\")\n",
    "job_info = pd.read_csv(\"./job_info.csv\")\n",
    "mar_info = pd.read_csv(\"./marry_info.csv\")\n",
    "res_info = pd.read_csv('./res_info.csv')\n",
    "childbirth_info = pd.read_csv('./childbirth_year_info.csv')\n",
    "#first_year(69); 68,69 if same?\n",
    "first_job_info = pd.read_csv('./first_job_info.csv')\n",
    "## spouse info\n",
    "# 68's husband birth year\n",
    "sp_bir_info = pd.read_csv('./spouse_info/sp_bir_info.csv')\n",
    "# husband's id in NLS-Men\n",
    "sp_id_info = pd.read_csv('./spouse_info/spid_in_NLSM.csv')\n",
    "#income and occu\n",
    "sp_inc_info = pd.read_csv('./spouse_info/income_Y_sp.csv')\n",
    "sp_occu_info = pd.read_csv('./spouse_info/occu_Y_sp.csv')\n"
   ]
  },
  {
   "cell_type": "code",
   "execution_count": 20,
   "metadata": {},
   "outputs": [],
   "source": [
    "df_id = basic_info[[\"R0000100\"]]"
   ]
  },
  {
   "cell_type": "code",
   "execution_count": 21,
   "metadata": {},
   "outputs": [],
   "source": [
    "n = basic_info.shape[0] #5159 people (68-03 -> 22 interview years)"
   ]
  },
  {
   "cell_type": "code",
   "execution_count": 22,
   "metadata": {},
   "outputs": [],
   "source": [
    "# create dictionary list\n",
    "d = {}\n",
    "d['person_id']=''\n",
    "d['basic_info']={\n",
    "    \"age\":0, #birth_year\n",
    "    \"race\":\"\",\n",
    "\n",
    "    \"education\": { \n",
    "        \"year\":0,\n",
    "        \"highest_education_level\": \"\", \n",
    "        \"highest_education_name\": \"\",\n",
    "        },\n",
    "    \n",
    "    \"first_job\": {\n",
    "        \"year\":0,\n",
    "        \"income\":0,\n",
    "        \"occupation\":0,\n",
    "        }\n",
    "    }\n",
    "d[\"life_sequence\"] =  []\n",
    "ls = { \"year\":0,\n",
    "    \"marriage_status\":\"\",\n",
    "    \"marriage_status_change\":False,\n",
    "    \"childbearing_status\":True,\n",
    "    \"child_under_18\":True,\n",
    "    'child_under_18_status_change':None,\n",
    "    \"residence\":\"\",\n",
    "    \"migration_status\":True,\n",
    "    \n",
    "    \"isWorking\":True,\n",
    "    \"income\":0,\n",
    "    \"occupation\":0\n",
    "}\n",
    "\n",
    "d[\"spouse_info\"]= {\n",
    "\"spouse_id\":\"\",\n",
    "\"spouse_age\":0,\n",
    "\"spouse_race\":\"\",\n",
    "\"spouse_education\": {\n",
    "    \"year\":0,\n",
    "    \"highest_education_level\": \"\", \n",
    "    \"highest_education_name\": \"\",\n",
    "},\n",
    "\"spouse_first_job\": {\n",
    "    \"year\":0,\n",
    "    \"income\":0,\n",
    "    \"occupation\":0,\n",
    "},\n",
    "\"spouse_life_sequence\":[]\n",
    "}\n",
    "\n",
    "people_dict = [{\"person_id\": str(i+1), 'basic_info': {}, 'life_sequence': [], 'spouse_info': {}} for i in range(n)]"
   ]
  },
  {
   "cell_type": "markdown",
   "metadata": {},
   "source": [
    "## gender, birth, race"
   ]
  },
  {
   "cell_type": "code",
   "execution_count": 23,
   "metadata": {},
   "outputs": [],
   "source": [
    "#1. gender, birth_year, race\n",
    "\n",
    "race_map = {\n",
    "    1: 'white',\n",
    "    2: 'black',\n",
    "    3: 'other'\n",
    "}\n",
    "for idx, person in enumerate(people_dict):\n",
    "    year = basic_info['R0042012'][idx]\n",
    "    race = basic_info['R0003200'][idx]\n",
    "    \n",
    "    if year < 0: \n",
    "        people_dict[idx]['basic_info']['birth_year'] = None\n",
    "    else:\n",
    "        people_dict[idx]['basic_info']['birth_year'] = int(year + 1900)\n",
    "    if race < 0: \n",
    "        people_dict[idx]['basic_info']['race'] = None\n",
    "    else:\n",
    "        people_dict[idx]['basic_info']['race'] = race_map[race]"
   ]
  },
  {
   "cell_type": "markdown",
   "metadata": {},
   "source": [
    "## education"
   ]
  },
  {
   "cell_type": "code",
   "execution_count": 24,
   "metadata": {},
   "outputs": [],
   "source": [
    "#education\n",
    "#'R7611000':highest_grade completed(2003-revised)\n",
    "#'R7611000-l': highest_degree_name (created)\n",
    "edu_info[['R7611000-l']]=None\n",
    "for i in range(n):\n",
    "    if 12<=edu_info['R7611000'][i]<=15:\n",
    "        edu_info['R7611000-l'][i]= \"high-school\"\n",
    "    elif 16<=edu_info['R7611000'][i]<=18:\n",
    "        edu_info['R7611000-l'][i]= \"college\"\n",
    "    elif (1<=edu_info['R7611000'][i]<=11):\n",
    "        edu_info['R7611000-l'][i]= \"high-school-noncompletion\" \n",
    "   "
   ]
  },
  {
   "cell_type": "code",
   "execution_count": 26,
   "metadata": {},
   "outputs": [],
   "source": [
    "# the year got the highest grade\n",
    "# YEAR R RECEIVED HIGH SCHOOL (GED) DIPLOMA, 83; 19xx\n",
    "high_school_code_list1 = ['R0927800']\n",
    "# High_school:Have you received a high school diploma or GED since DATE OF LAST INTERVIEW? \n",
    "# 1: yes vs 0: no\n",
    "high_school_code_list2 = ['R1051800', 'R1097600', 'R1215400', 'R1346700', 'R1520700', 'R3477200', 'R4193400', 'R5142100', 'R6236200', 'R7337400']\n",
    "high_school_year = [1985,1987,1988,1991,1993,1995,1997,1999,2001,2003]\n",
    "# DATE R RECEIVED HIGHEST COLLEGE DEGREE, - YEAR; \n",
    "# idx<=5 位数+1900\n",
    "college_code_list = ['R0591700','R1052400','R1098200','R1216000','R1347200','R1521300','R3477800','R4194000', 'R5142700', 'R6236800', 'R7338000'] \n",
    "\n",
    "high_school_map = dict(zip(high_school_code_list2, high_school_year))\n",
    "\n",
    "\n",
    "index = [0]+[i for i in range(1,19)]\n",
    "name = [None]+['1st grade','2nd grade','3rd grade']+[str(i)+'th grade' for i in range(4,13)]+['1st year college','2nd year college','3rd year college']+[str(i)+'th year college' for i in range(4,6)]+['6th year college or more']\n",
    "degree_map = dict(zip(index,name))"
   ]
  },
  {
   "cell_type": "code",
   "execution_count": 27,
   "metadata": {},
   "outputs": [],
   "source": [
    "for idx, person in enumerate(people_dict):\n",
    "    edu_dict = {'year': None, 'highest_education_level': None, 'highest_education_name': None}\n",
    "    if edu_info['R7611000'][idx]>0: #有最高学位数据\n",
    "# high_school grade        \n",
    "        if edu_info['R7611000-l'][idx]== \"high-school\":\n",
    "            if edu_info['R0927800'][idx] > 0:\n",
    "                edu_dict['year'] = int(edu_info['R0927800'][idx]+1900)\n",
    "            else:\n",
    "                for h_idx, h_year in enumerate(high_school_code_list2):\n",
    "                    if edu_info[h_year][idx]==1:\n",
    "                        edu_dict['year'] = int(high_school_map[h_year]+1900)\n",
    "                    break\n",
    "# college degree\n",
    "        if edu_info['R7611000-l'][idx]== \"college\":\n",
    "                  for c_idx, c_var in enumerate(college_code_list):\n",
    "                      if edu_info[c_var][idx] > 0:\n",
    "                          if c_idx <=5:\n",
    "                              edu_dict['year'] = int(edu_info[c_var][idx]+1900)\n",
    "                          else:\n",
    "                              edu_dict['year'] = int(edu_info[c_var][idx])\n",
    "# name and level                            \n",
    "        edu_dict['highest_education_name'] = degree_map[edu_info['R7611000'][idx]]\n",
    "        edu_dict['highest_education_level'] = edu_info['R7611000-l'][idx]\n",
    "    person['basic_info']['education'] = edu_dict\n",
    "    "
   ]
  },
  {
   "cell_type": "markdown",
   "metadata": {},
   "source": [
    "## first_job"
   ]
  },
  {
   "cell_type": "code",
   "execution_count": 28,
   "metadata": {},
   "outputs": [],
   "source": [
    "occu_code_list = ['R0018700', 'R0135800', 'R0220100', 'R0327000', 'R0410700',\n",
    "       'R0495200', 'R0544300', 'R0585400', 'R0702600', 'R0754200', 'R0801300',\n",
    "       'R0944000', 'R1060400', 'R1106400', 'R1230800', 'R1362400', 'R1579900',\n",
    "       'R1902900', 'R3640200', 'R4442700', 'R5640600', 'R6718100']\n",
    "\n",
    "inc_code_list = ['R0112200', 'R0192000', 'R0307600', 'R0391400', 'R0474000',\n",
    "       'R0532200', 'R0581700', 'R0671200', 'R0746500', 'R0793200', 'R0902100',\n",
    "       'R1045500', 'R1091600', 'R1196300', 'R1328500', 'R1506500', 'R3388500',\n",
    "       'R4153500', 'R5111700', 'R6204300', 'R7312300', 'income_2003']\n",
    "year_list = [1968,1969,1970,1971\t,1972\t,1973\t,1975\t,1977\t,1978\t,1980\t,1982\t,1983\t,1985\t,1987\t,1988\t,1991\t,1993\t,1995\t,1997,1999,2001,2003]\n",
    "\n",
    "for idx, person in enumerate(people_dict):\n",
    "    first_job_dict = {'year': None, 'income': None, 'occupation': None}\n",
    "    # 1969 之前的 first job\n",
    "    if first_job_info['R0099500'][idx] > 0:\n",
    "        first_job_dict['year'] = int(first_job_info['R0099500'][idx]+1900)\n",
    "        #如果是68，69年 first_job，直接对应 【occu, income】\n",
    "        #如果<68，根据两个对应变量（是否1st job和68，69的job一致）\n",
    "        if (first_job_info['R0099500'][idx] == 68 or first_job_info['R0024500'][idx] == 1) and (job_info[occu_code_list[0]][idx] > 0 or job_info[inc_code_list[0]][idx] > 0):\n",
    "            first_job_dict['income'] = int(job_info[inc_code_list[0]][idx])\n",
    "            first_job_dict['occupation'] = int(job_info[occu_code_list[0]][idx])\n",
    "        elif  (first_job_info['R0099500'][idx] == 69 or first_job_info['R0099300'][idx] == 1) and (job_info[occu_code_list[1]][idx] > 0 or job_info[inc_code_list[1]][idx] > 0):  \n",
    "            first_job_dict['income'] = int(job_info[inc_code_list[1]][idx])\n",
    "            first_job_dict['occupation'] = int(job_info[occu_code_list[1]][idx])\n",
    "    else:\n",
    "        for y_idx, year in enumerate(year_list):\n",
    "            occu = job_info[occu_code_list[y_idx]][idx]\n",
    "            income = job_info[inc_code_list[y_idx]][idx]\n",
    "            if occu > 0 or income > 0:\n",
    "                first_job_dict['year'] = int(year)\n",
    "                if occu > 0:\n",
    "                    first_job_dict['occupation'] = int(occu)\n",
    "                if income > 0:\n",
    "                    first_job_dict['income'] = int(income)\n",
    "                break       \n",
    "    person['basic_info']['first_job'] = first_job_dict"
   ]
  },
  {
   "cell_type": "markdown",
   "metadata": {},
   "source": [
    "## life_sequence"
   ]
  },
  {
   "cell_type": "code",
   "execution_count": 29,
   "metadata": {},
   "outputs": [],
   "source": [
    "res_code_list = ['R0003306', 'R0086206', 'R0146106', 'R0253306', 'R0333606',\n",
    "       'R0415506', 'R0517906', 'R0546916', 'R0586106', 'R0753400', 'R0800600',\n",
    "       'R0943300', 'R1056800', 'R1105700', 'R1229400', 'R1361500', 'R1579000',\n",
    "       'R3492100', 'R4235600', 'R5407300', 'R6318000', 'R7610300']\n",
    "\n",
    "mar_status_code_list = ['R0042051', 'R0116651', 'R0197050', 'R0311951', 'R0396251',\n",
    "       'R0480551', 'R0519600', 'R0581000', 'R0635000', 'R0710000', 'R0756500',\n",
    "       'R0940700', 'R0947400', 'R1063000', 'R1221000', 'R1352700', 'R1569900',\n",
    "       'R1664710', 'R3507200', 'R4278200', 'R5447500', 'R6516200']\n",
    "\n",
    "occu_code_list = ['R0018700', 'R0135800', 'R0220100', 'R0327000', 'R0410700',\n",
    "       'R0495200', 'R0544300', 'R0585400', 'R0702600', 'R0754200', 'R0801300',\n",
    "       'R0944000', 'R1060400', 'R1106400', 'R1230800', 'R1362400', 'R1579900',\n",
    "       'R1902900', 'R3640200', 'R4442700', 'R5640600', 'R6718100']\n",
    "\n",
    "inc_code_list = ['R0112200', 'R0192000', 'R0307600', 'R0391400', 'R0474000',\n",
    "       'R0532200', 'R0581700', 'R0671200', 'R0746500', 'R0793200', 'R0902100',\n",
    "       'R1045500', 'R1091600', 'R1196300', 'R1328500', 'R1506500', 'R3388500',\n",
    "       'R4153500', 'R5111700', 'R6204300', 'R7312300', 'income_2003']\n",
    "#1st-16th child\n",
    "chb_code_list = ['R7367100', 'R7367200', 'R7367300', 'R7367400', 'R7367500','R7367600', 'R7367700', 'R7367800', 'R7367900', 'R7368000', 'R7368100','R7368200', 'R7368300', 'R7368400', 'R7368500', 'R7368600'] \n",
    "\n",
    "year_list = [1968,\t1969, 1970, 1971 ,1972,1973\t,1975\t,1977\t,1978\t,1980\t,1982\t,1983\t,1985\t,1987\t,1988\t,1991\t,1993\t,1995\t,1997\t,1999\t,2001\t,2003]\n",
    "\n",
    "mar_map = {\n",
    "       1: 'married spouse present',\n",
    "       2: 'married spouse absent',\n",
    "       3: 'widowed',\n",
    "       4: 'divorced',\n",
    "       5: 'separate',\n",
    "       6: 'never married',\n",
    "       7: 'spouse absent, reason unknown',\n",
    "}\n",
    "\n",
    "res_map = {\n",
    "    0: 'non-south',\n",
    "    1: 'south',\n",
    "    9: None # Code 9 represents an incomplete interview and should be treated as an invalid\n",
    "}\n",
    "\n",
    "# childbirth_year_map: 从1994开始，直到下一个调查年之前，都算做前一个调查年，如1995年的childbirth算作1994年，这样它会被算入对1996年的影响\n",
    "key_y = [i for i in range(1968,2004)]\n",
    "value_y = [i for i in range(1968,1974)]+[1973,1975,1975,1977,1978,1978,1980,1980,1982,1983,1983,1985,1985,1987,1988,1988,1988,1991,1991,1993,1993,1995,1995,1997,1997,1999,1999,2001,2001,2003]\n",
    "childbirth_map = dict(zip(key_y,value_y))"
   ]
  },
  {
   "cell_type": "code",
   "execution_count": 30,
   "metadata": {},
   "outputs": [],
   "source": [
    "for idx, person in enumerate(people_dict):\n",
    "    person['life_sequence']=[]\n",
    "# get childbirth_year data raw list & processed list\n",
    "    child_list = childbirth_info.iloc[idx,1:]\n",
    "    child_year_list0 = list(filter(lambda x: (x>0),child_list))\n",
    "    child_year_list1 = child_year_list0.copy()\n",
    "    for ch_idx, ch_year in enumerate(child_year_list0):\n",
    "           if ch_year>=1968:\n",
    "                  child_year_list1[ch_idx] = childbirth_map[ch_year]\n",
    "    \n",
    "\n",
    "    for y_idx, year in enumerate(year_list):\n",
    "       year_dict = {'year': year, 'marriage_status': None, 'marriage_status_change': None, 'childbearing_status': None, 'child_under_18': None, 'child_under_18_status_change': None, 'residence': None, 'migration_status': None, 'isWorking': None, 'occupation': None, 'income': None \n",
    "       }\n",
    "# marital status\n",
    "       marital_status = mar_info[mar_status_code_list[y_idx]][idx]\n",
    "       if marital_status > 0:\n",
    "              year_dict['marriage_status'] = mar_map[marital_status]\n",
    "#marital_status_change\n",
    "       if y_idx == 0:\n",
    "              year_dict['marriage_status_change'] = -1\n",
    "       if y_idx > 0 and person['life_sequence'][y_idx - 1]['marriage_status'] != None and year_dict['marriage_status'] != None:\n",
    "              if person['life_sequence'][y_idx - 1]['marriage_status'] != year_dict['marriage_status']:\n",
    "                     year_dict['marriage_status_change'] = True\n",
    "              else: \n",
    "                     year_dict['marriage_status_change'] = False\n",
    "# childbearing_status\n",
    "       if len(child_year_list0) > 0:\n",
    "              if year in child_year_list1:\n",
    "                     year_dict['childbearing_status'] = True\n",
    "              else:\n",
    "                     year_dict['childbearing_status'] = False\n",
    "# child_under_18_status\n",
    "       if len(child_year_list0) > 0:\n",
    "             before_year_list = list(filter(lambda x: (x <= year),child_year_list0)) \n",
    "             if len(before_year_list)==0:\n",
    "                    year_dict['child_under_18'] = False\n",
    "             elif 0<=(year-max(before_year_list))< 18:\n",
    "                    year_dict['child_under_18'] = True\n",
    "             else:\n",
    "                    year_dict['child_under_18'] = False\n",
    "#child_under_18_status_change\n",
    "# 0: 状态不变；\n",
    "# 1: 有小孩(<18岁)--> 无小孩；\n",
    "# 2: 无小孩-->有小孩\n",
    "       if y_idx == 0:\n",
    "              year_dict['child_under_18_status_change'] = -1\n",
    "       if y_idx > 0 and (person['life_sequence'][y_idx - 1]['child_under_18'] != None) and (year_dict['child_under_18'] != None):\n",
    "              if person['life_sequence'][y_idx - 1]['child_under_18'] == year_dict['child_under_18']:\n",
    "                     year_dict['child_under_18_status_change'] = 0\n",
    "              if person['life_sequence'][y_idx - 1]['child_under_18'] == True and year_dict['child_under_18'] == False:\n",
    "                     year_dict['child_under_18_status_change'] = 1\n",
    "              if person['life_sequence'][y_idx - 1]['child_under_18'] == False and year_dict['child_under_18'] == True:\n",
    "                     year_dict['child_under_18_status_change'] = 2          \n",
    "# residence\n",
    "# south, non-south \n",
    "       residence = res_info[res_code_list[y_idx]][idx]\n",
    "       if residence >= 0:\n",
    "              year_dict['residence'] = res_map[residence]\n",
    "            \n",
    "# migration_status\n",
    "       if y_idx == 0:\n",
    "              year_dict['migration_status'] = -1\n",
    "       if y_idx > 0 and person['life_sequence'][y_idx - 1]['residence'] != None and year_dict['residence'] != None:\n",
    "              if person['life_sequence'][y_idx - 1]['residence'] != year_dict['residence']:\n",
    "                     year_dict['migration_status'] = True\n",
    "              else:\n",
    "                     year_dict['migration_status'] = False\n",
    "## job information\n",
    "       occu = job_info[occu_code_list[y_idx]][idx]\n",
    "       income = job_info[inc_code_list[y_idx]][idx]\n",
    "# isworking \n",
    "       if occu > 0 or income > 0:\n",
    "              year_dict['isWorking'] = True\n",
    "       else:\n",
    "              year_dict['isWorking'] = False\n",
    "# occupation\n",
    "       if occu > 0:\n",
    "              year_dict['occupation'] = int(occu)\n",
    "# income\n",
    "       if income > 0:\n",
    "              year_dict['income'] = int(income)  \n",
    "              \n",
    "## 逐个加入个人的life_sequence              \n",
    "       person['life_sequence'].append(year_dict)        "
   ]
  },
  {
   "cell_type": "markdown",
   "metadata": {},
   "source": [
    "## spouse_info"
   ]
  },
  {
   "cell_type": "code",
   "execution_count": 31,
   "metadata": {},
   "outputs": [],
   "source": [
    "sp_occu_code_list = ['R0064100', 'R0132200', 'R0211500', 'R0325550', 'R0413300',\n",
    "       'R0499100', 'R0532030', 'R0581530', 'R0676440', 'R0910600', 'R1531500',\n",
    "       'R2756000', 'R3961300', 'R4857100', 'R6021600', 'R7132500']\n",
    "sp_inc_code_list = ['R0036500', 'R0112700', 'R0192500', 'R0308100', 'R0391900',\n",
    "       'R0474500', 'R0532300', 'R0581800', 'R0672100', 'R0747600', 'R0794500',\n",
    "       'R0904400', 'R1047000', 'R1093100', 'R1198600', 'R1330900', 'R1510500',\n",
    "       'R3392300', 'R4157300', 'R5115700', 'R6208200', 'R7316200']\n",
    "\n",
    "for idx, person in enumerate(people_dict):\n",
    "    person['spouse_info']={\n",
    "        \"spouse_id\":None,\n",
    "        \"spouse_birth_year\":None,\n",
    "        \"spouse_race\":None,\n",
    "        \"spouse_education\": None,\n",
    "        \"spouse_first_job\": None,\n",
    "        \"spouse_life_sequence\":[]\n",
    "    }\n",
    "    \n",
    "    sp_pid = sp_id_info['R0000350'][idx]\n",
    "    sp_birth_year = sp_bir_info['R0042015'][idx]#1968\n",
    "    \n",
    "## id, birth_year, 无race\n",
    "    if sp_pid > 0:\n",
    "        person['spouse_info']['spouse_id'] = int(sp_pid)\n",
    "    if sp_birth_year > 0:\n",
    "        person['spouse_info']['spouse_birth_year'] = int(sp_birth_year+1900)\n",
    "## life_sequence: occupation and income\n",
    "    f = 0 #若出现1次occu不存在的年份，y_idx-1，以此累加\n",
    "    for y_idx, year in enumerate(year_list):\n",
    "       year_dict = {'year': year, 'childbearing_status': None, 'child_under_18': None, 'child_under_18_status_change': None, 'residence': None, 'migration_status': None, 'isWorking': None, 'occupation': None, 'income': None \n",
    "       }\n",
    "# job information\n",
    "       if year in [1980,1982,1985,1987,1988,1991]:\n",
    "              occu = -1\n",
    "              f = f+1\n",
    "       else:\n",
    "              occu = sp_occu_info[sp_occu_code_list[y_idx-f]][idx]\n",
    "       income = sp_inc_info[sp_inc_code_list[y_idx]][idx]\n",
    "# isworking \n",
    "       if occu > 0 or income > 0:\n",
    "              year_dict['isWorking'] = True\n",
    "       else:\n",
    "              year_dict['isWorking'] = False\n",
    "# occupation\n",
    "       if occu > 0:\n",
    "              year_dict['occupation'] = int(occu)\n",
    "# income\n",
    "       if income > 0:\n",
    "              year_dict['income'] = int(income)  \n",
    "              \n",
    "## 逐个加入个人的life_sequence              \n",
    "       person['spouse_info']['spouse_life_sequence'].append(year_dict) "
   ]
  },
  {
   "cell_type": "raw",
   "metadata": {},
   "source": [
    "## 当spid in NLS-Men 对应上后可用\n",
    "## Create spouse_id df\n",
    "df_hh=pd.read_csv(\"./household_spouse_id.csv\")\n",
    "df_spid = pd.DataFrame(columns=['R0000100','SP_ID'])\n",
    "index_rela = ['R0000151','R0000153','R0000155','R0000157']\n",
    "index_spid = ['R0000150','R0000152','R0000154','R0000156']\n",
    "for i in range(4):\n",
    "    d = df_hh[df_hh[index_rela[i]]==1]\n",
    "    dd = d[['R0000100', index_spid[i]]].rename({index_spid[i]:'SP_ID'}, axis=1)\n",
    "    df_spid = df_spid.append(dd)\n",
    "# create spouse_id map\n",
    "spouse_id_map = dict(zip(df_spid['R0000100'], df_spid['SP_ID']))\n",
    "pid_list = df_spid['R0000100']\n",
    "\n",
    "for idx, person in enumerate(people_dict):\n",
    "    person['spouse_info']={\n",
    "        \"spouse_id\":None,\n",
    "        \"spouse_birth_year\":None,\n",
    "        \"spouse_race\":None,\n",
    "        \"spouse_education\": None,\n",
    "        \"spouse_first_job\": None,\n",
    "        \"spouse_life_sequence\":[]\n",
    "    }\n",
    "    \n",
    "    for sp_idx, pid in enumerate(pid_list):\n",
    "        sp_pid = spouse_id_map[pid] \n",
    "        person['spouse_info']['spouse_id'] = int(sp_pid)\n",
    "        person['spouse_info']['spouse_birth_year'] = people_dict[sp_pid]['basic_info']['birth_year']\n",
    "        person['spouse_info']['spouse_race'] = people_dict[sp_pid]['basic_info']['race']\n",
    "        person['spouse_info']['spouse_education'] = people_dict[sp_pid]['basic_info']['education']\n",
    "        person['spouse_info']['spouse_first_job'] = people_dict[sp_pid]['basic_info']['first_job']\n",
    "        person['spouse_info']['spouse_life_sequence'] = people_dict[sp_pid]['life_sequence']"
   ]
  },
  {
   "cell_type": "markdown",
   "metadata": {},
   "source": [
    "## *预处理：合并occu+income处理"
   ]
  },
  {
   "cell_type": "code",
   "execution_count": 4,
   "metadata": {},
   "outputs": [],
   "source": [
    "df_occu = pd.read_csv('./occu_info.csv')\n",
    "df_inc = pd.read_csv('./income_info.csv')\n",
    "df_inc = df_inc.drop('R0036000',axis=1)\n",
    "df_inc['income_2003']=df_inc.iloc[:,-1]\n",
    "c = pd.merge(df_occu,df_inc, on='R0000100', how='outer').fillna(-1)\n",
    "c.to_csv(\"./job_info.csv\",index=False)\n"
   ]
  },
  {
   "cell_type": "code",
   "execution_count": 31,
   "metadata": {},
   "outputs": [],
   "source": [
    "df_inc = pd.read_csv('./income_info.csv')\n",
    "df_inc1 = df_inc.drop_duplicates(subset=\"R0000100\", keep='first', inplace=False)\n",
    "df_inc1 = df_inc1.drop('R0155400',axis=1)\n",
    "df_inc1['income_2018']=df_inc1.iloc[:,-1]\n",
    "c = pd.merge(df_occu,df_inc1, on='R0000100', how='outer').fillna(-1)\n",
    "c.to_csv(\"./job_info.csv\",index=False)"
   ]
  },
  {
   "cell_type": "markdown",
   "metadata": {},
   "source": [
    "## output"
   ]
  },
  {
   "cell_type": "code",
   "execution_count": 312,
   "metadata": {},
   "outputs": [],
   "source": [
    "##转化np值为原始值 e.g. int64 -> int\n",
    "class NpEncoder(json.JSONEncoder):\n",
    "    def default(self, obj):\n",
    "        if isinstance(obj, np.integer):\n",
    "            return int(obj)\n",
    "        elif isinstance(obj, np.floating):\n",
    "            return float(obj)\n",
    "        elif isinstance(obj, np.ndarray):\n",
    "            return obj.tolist()\n",
    "        elif isinstance(obj, np.bool_):\n",
    "            return super().encode(bool(obj))\n",
    "        else:\n",
    "            return super(NpEncoder, self).default(obj)\n",
    "\n",
    "class CustomJSONizer(json.JSONEncoder):\n",
    "    def default(self, obj):\n",
    "        return super().encode(bool(obj)) \\\n",
    "            if isinstance(obj, np.bool_) \\\n",
    "            else super().default(obj)"
   ]
  },
  {
   "cell_type": "code",
   "execution_count": 16,
   "metadata": {},
   "outputs": [],
   "source": [
    "with open(\"./NLSW_clean.json\", 'w') as f:\n",
    "    json.dump(people_dict,f, indent = 2, sort_keys=True)"
   ]
  },
  {
   "cell_type": "markdown",
   "metadata": {},
   "source": [
    "## Explore"
   ]
  },
  {
   "cell_type": "markdown",
   "metadata": {},
   "source": [
    "### 婚姻情况变化"
   ]
  },
  {
   "cell_type": "code",
   "execution_count": 32,
   "metadata": {},
   "outputs": [],
   "source": [
    "##婚姻状况不变 vs 变化\n",
    "mar_status_change_sum = {\n",
    "    'not change': 0,\n",
    "    'change': 0,\n",
    "    'None': 0\n",
    "}\n",
    "i=k=j=0\n",
    "for idx, person in enumerate(people_dict):\n",
    "    mar_ch_list = []\n",
    "    y_n = len(person['life_sequence'])\n",
    "    for y_idx, year in enumerate(person['life_sequence']):\n",
    "        mar_ch = year['marriage_status_change']\n",
    "        if mar_ch != None:\n",
    "                mar_ch_list.append(mar_ch)\n",
    "    if len(mar_ch_list)<y_n:\n",
    "        k=k+1\n",
    "    elif True in mar_ch_list:\n",
    "        j=j+1\n",
    "    else:\n",
    "        i=i+1\n",
    "    mar_status_change_sum['change']=i\n",
    "    mar_status_change_sum['not change']=j\n",
    "    mar_status_change_sum['None']=k"
   ]
  },
  {
   "cell_type": "code",
   "execution_count": 33,
   "metadata": {},
   "outputs": [
    {
     "data": {
      "text/plain": [
       "{'not change': 1323, 'change': 396, 'None': 3440}"
      ]
     },
     "execution_count": 33,
     "metadata": {},
     "output_type": "execute_result"
    }
   ],
   "source": [
    "mar_status_change_sum # 77.0% not change"
   ]
  },
  {
   "cell_type": "markdown",
   "metadata": {},
   "source": [
    "### 计算Event数目"
   ]
  },
  {
   "cell_type": "code",
   "execution_count": 34,
   "metadata": {},
   "outputs": [],
   "source": [
    "indice = list(range(len(year_list)))\n",
    "year_value = year_list\n",
    "idx_year_map = dict(zip(indice,year_value))\n",
    "event_vs_career_list = [] #每个人的event dict 的 list\n",
    "\n",
    "for idx, person in enumerate(people_dict):\n",
    "    total_num = 0\n",
    "    event_dict = {\n",
    "        'person_id': None,\n",
    "        'first_occu_year':None,\n",
    "        'last_occu_year':None,\n",
    "        'first_income_year':None,\n",
    "        'last_income_year':None,\n",
    "        'event_n': None,\n",
    "# before 1st job:0\n",
    "# after 1st job:1\n",
    "        \"marriage_status_change\":{\n",
    "            'n':None,\n",
    "            'happen_time':None\n",
    "        }, \n",
    "        \"childbearing_status\":{\n",
    "            'n':None,\n",
    "            'happen_time':None\n",
    "        },\n",
    "        'child_under_18_status_change':{\n",
    "            'n':None,\n",
    "            'happen_time':None\n",
    "        },\n",
    "        'migration_status':{\n",
    "            'n':None,\n",
    "            'happen_time':None\n",
    "        },\n",
    "    }\n",
    "# take person who either has occu or income information\n",
    "# occu 和 income 非空index list (可以map到年份list)\n",
    "    df = pd.DataFrame.from_dict(person['life_sequence'])\n",
    "    df = df.replace({np.nan: None})\n",
    "    occu_idx_list = [i for i, value in enumerate(list(df['occupation'])) if value != None]\n",
    "    income_idx_list = [i for i, value in enumerate(list(df['income'])) if value != None]\n",
    "    if len(occu_idx_list)>0 or len(income_idx_list)>0:\n",
    "        event_dict['person_id'] = person['person_id']\n",
    "        if len(occu_idx_list)>0:\n",
    "            event_dict['first_occu_year'] = idx_year_map[occu_idx_list[0]]\n",
    "            event_dict['last_occu_year'] = idx_year_map[occu_idx_list[-1]]\n",
    "        if len(income_idx_list)>0:\n",
    "            event_dict['first_income_year'] = idx_year_map[income_idx_list[0]]\n",
    "            event_dict['last_income_year'] = idx_year_map[income_idx_list[-1]]\n",
    "    \n",
    "    # status_change events(marriage, child_u18, migration)\n",
    "    # childbearing 没有-1\n",
    "    # len(!=0)-1>=1, since first is -1\n",
    "        event_name_list = [\"marriage_status_change\", \"childbearing_status\", 'child_under_18_status_change', \"migration_status\"]\n",
    "        for e_idx, event in enumerate(event_name_list):\n",
    "            event_list = df[event]\n",
    "            happen_list = list(filter(None, event_list))\n",
    "            if (-1 in happen_list):\n",
    "                happen_list.remove(-1)\n",
    "            num = len(happen_list)\n",
    "            if num > 0:\n",
    "                event_dict[event]['n'] = num\n",
    "                total_num = total_num + num\n",
    "            # get all index of True\n",
    "                y_idx_list = [i for i,val in enumerate(event_list) if (val!=None and val!=0 and val!=-1)]\n",
    "            # < 1st job year:'before' vs >= 1st job year:'after'\n",
    "                comp_list = []\n",
    "                \n",
    "                \n",
    "                for y_idx in y_idx_list:\n",
    "                    event_year = idx_year_map[int(y_idx)]\n",
    "                    comp_dict = {\n",
    "                    'year': None,\n",
    "                    'compare_occu':None,\n",
    "                    'compare_income':None}\n",
    "                    \n",
    "                    if len(occu_idx_list)>0:\n",
    "                        if event_year < event_dict['first_occu_year']:\n",
    "                            comp_dict['year'] = int(event_year)\n",
    "                            comp_dict['compare_occu'] = 'before'\n",
    "                        elif event_year > event_dict['last_occu_year']:\n",
    "                            comp_dict['year'] = int(event_year)\n",
    "                            comp_dict['compare_occu'] = 'after'\n",
    "                        else:\n",
    "                            comp_dict['year'] = int(event_year)\n",
    "                            comp_dict['compare_occu'] = 'middle'\n",
    "                    if len(income_idx_list)>0:\n",
    "                        if event_year < event_dict['first_income_year']:\n",
    "                            comp_dict['year'] = int(event_year)\n",
    "                            comp_dict['compare_income'] = 'before'\n",
    "                        elif event_year > event_dict['last_income_year']:\n",
    "                            comp_dict['year'] = int(event_year)\n",
    "                            comp_dict['compare_income'] = 'after'\n",
    "                        else:\n",
    "                            comp_dict['year'] = int(event_year)\n",
    "                            comp_dict['compare_income'] = 'middle'\n",
    "                            \n",
    "                    comp_list.append(comp_dict)       \n",
    "                    \n",
    "                event_dict[event]['happen_time'] = comp_list\n",
    "\n",
    "        \n",
    "        event_dict['event_n'] = total_num\n",
    "        event_vs_career_list.append(event_dict)           \n",
    "\n",
    "            "
   ]
  },
  {
   "cell_type": "code",
   "execution_count": 35,
   "metadata": {},
   "outputs": [],
   "source": [
    "vs_list = ['before', 'middle', 'after']\n",
    "count_dict = {\n",
    "    'compare_occu':pd.DataFrame(index = event_name_list, columns=['before', 'middle', 'after']),\n",
    "    'compare_income':pd.DataFrame(index = event_name_list, columns=['before', 'middle', 'after'])\n",
    "}\n",
    "\n",
    "\n",
    "for event in event_name_list:\n",
    "    for time in vs_list:\n",
    "        n_dict = {\n",
    "        'compare_occu':0,\n",
    "        'compare_income':0\n",
    "        }\n",
    "        for person in event_vs_career_list:\n",
    "            if person[event]['happen_time']!=None:\n",
    "                df = pd.DataFrame.from_dict(person[event]['happen_time'])\n",
    "                for comp in df.columns[1:]:\n",
    "                    n_dict[comp] = list(df[comp]).count(time)+ n_dict[comp]\n",
    "            \n",
    "        count_dict['compare_occu'][time][event] = n_dict['compare_occu']\n",
    "        count_dict['compare_income'][time][event] = n_dict['compare_income']\n",
    "            "
   ]
  },
  {
   "cell_type": "code",
   "execution_count": 36,
   "metadata": {},
   "outputs": [
    {
     "data": {
      "text/plain": [
       "{'compare_occu':                              before middle after\n",
       " marriage_status_change          119   7584   134\n",
       " childbearing_status             172   4399     7\n",
       " child_under_18_status_change     54   3341   143\n",
       " migration_status                 37   1769    24,\n",
       " 'compare_income':                              before middle after\n",
       " marriage_status_change          164   6931   709\n",
       " childbearing_status             408   4018   124\n",
       " child_under_18_status_change     67   3101   361\n",
       " migration_status                 57   1609   160}"
      ]
     },
     "execution_count": 36,
     "metadata": {},
     "output_type": "execute_result"
    }
   ],
   "source": [
    "count_dict"
   ]
  },
  {
   "cell_type": "code",
   "execution_count": 86,
   "metadata": {},
   "outputs": [],
   "source": [
    "event_vs_career_list[1]['child_under_18_status_change']['happen_time']"
   ]
  },
  {
   "cell_type": "code",
   "execution_count": 37,
   "metadata": {},
   "outputs": [],
   "source": [
    "have_1st_job_list = event_vs_career_list\n",
    "with open(\"./NLSW_event.json\", 'w') as f:\n",
    "    json.dump(have_1st_job_list,f, indent = 2, sort_keys=True)"
   ]
  },
  {
   "cell_type": "code",
   "execution_count": 38,
   "metadata": {},
   "outputs": [
    {
     "data": {
      "text/plain": [
       "4040"
      ]
     },
     "execution_count": 38,
     "metadata": {},
     "output_type": "execute_result"
    }
   ],
   "source": [
    "# event number >=1\n",
    "len([i for i in have_1st_job_list if i['event_n']>0])"
   ]
  },
  {
   "cell_type": "code",
   "execution_count": 39,
   "metadata": {},
   "outputs": [
    {
     "data": {
      "text/plain": [
       "3286"
      ]
     },
     "execution_count": 39,
     "metadata": {},
     "output_type": "execute_result"
    }
   ],
   "source": [
    "# event number >=2\n",
    "len([i for i in have_1st_job_list if i['event_n']>1])"
   ]
  },
  {
   "cell_type": "code",
   "execution_count": 40,
   "metadata": {},
   "outputs": [
    {
     "data": {
      "text/plain": [
       "2754"
      ]
     },
     "execution_count": 40,
     "metadata": {},
     "output_type": "execute_result"
    }
   ],
   "source": [
    "# event number >=3\n",
    "len([i for i in have_1st_job_list if i['event_n']>2 ])"
   ]
  },
  {
   "cell_type": "code",
   "execution_count": 41,
   "metadata": {},
   "outputs": [
    {
     "data": {
      "text/plain": [
       "(564, 200)"
      ]
     },
     "execution_count": 41,
     "metadata": {},
     "output_type": "execute_result"
    }
   ],
   "source": [
    "## occupation/income每年都有有效值\n",
    "## 得到 person_id\n",
    "occu_full_id_list = []\n",
    "income_full_id_list = []\n",
    "for idx, person in enumerate(people_dict):\n",
    "    df = pd.DataFrame.from_dict(person['life_sequence']).replace({np.nan: None})\n",
    "    occu_sequence = list(df['occupation'])\n",
    "    if None not in occu_sequence:\n",
    "        occu_full_id_list.append(person['person_id'])\n",
    "    income_sequence = df['income']\n",
    "    if None not in list(income_sequence):\n",
    "        income_full_id_list.append(person['person_id'])\n",
    "  \n",
    "len(occu_full_id_list),len(income_full_id_list)"
   ]
  },
  {
   "cell_type": "code",
   "execution_count": 42,
   "metadata": {},
   "outputs": [
    {
     "data": {
      "text/plain": [
       "200"
      ]
     },
     "execution_count": 42,
     "metadata": {},
     "output_type": "execute_result"
    }
   ],
   "source": [
    "##验证\n",
    "df1=job_info[inc_code_list].replace([-5,-4,-3,-2,-1,0], np.nan)\n",
    "df1.dropna(axis=0,how='any').shape[0]"
   ]
  },
  {
   "cell_type": "code",
   "execution_count": 45,
   "metadata": {},
   "outputs": [
    {
     "data": {
      "text/plain": [
       "530"
      ]
     },
     "execution_count": 45,
     "metadata": {},
     "output_type": "execute_result"
    }
   ],
   "source": [
    "## occu + 1/2/3\n",
    "# event number >=1\n",
    "len([i for i in have_1st_job_list if i['event_n']>0 and i['person_id'] in occu_full_id_list]) #530\n",
    "# event number >=2\n",
    "len([i for i in have_1st_job_list if i['event_n']>1 and i['person_id'] in occu_full_id_list]) #504\n",
    "# event number >=3\n",
    "len([i for i in have_1st_job_list if i['event_n']>2 and i['person_id'] in occu_full_id_list ]) # 463"
   ]
  },
  {
   "cell_type": "code",
   "execution_count": 49,
   "metadata": {},
   "outputs": [
    {
     "data": {
      "text/plain": [
       "184"
      ]
     },
     "execution_count": 49,
     "metadata": {},
     "output_type": "execute_result"
    }
   ],
   "source": [
    "## income + 1/2/3\n",
    "# event number >=1\n",
    "len([i for i in have_1st_job_list if i['event_n']>0 and i['person_id'] in income_full_id_list]) #184\n",
    "# event number >=2\n",
    "len([i for i in have_1st_job_list if i['event_n']>1 and i['person_id'] in income_full_id_list]) #176\n",
    "# event number >=3\n",
    "len([i for i in have_1st_job_list if i['event_n']>2 and i['person_id'] in income_full_id_list ]) # 157"
   ]
  }
 ],
 "metadata": {
  "interpreter": {
   "hash": "ec2bbd1a6bb0ffd7e2416afc0eb843ffc995c8a0c7f30368c51cc26c1d65c7be"
  },
  "kernelspec": {
   "display_name": "Python 3.8.8 64-bit ('base': conda)",
   "language": "python",
   "name": "python3"
  },
  "language_info": {
   "codemirror_mode": {
    "name": "ipython",
    "version": 3
   },
   "file_extension": ".py",
   "mimetype": "text/x-python",
   "name": "python",
   "nbconvert_exporter": "python",
   "pygments_lexer": "ipython3",
   "version": "3.8.8"
  },
  "orig_nbformat": 4
 },
 "nbformat": 4,
 "nbformat_minor": 2
}
