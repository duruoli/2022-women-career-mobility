{
 "cells": [
  {
   "cell_type": "code",
   "execution_count": 9,
   "metadata": {},
   "outputs": [],
   "source": [
    "import pandas as pd\n",
    "import numpy as np\n",
    "import json\n",
    "import os\n",
    "\n",
    "import warnings\n",
    "warnings.filterwarnings(\"ignore\")"
   ]
  },
  {
   "cell_type": "code",
   "execution_count": 10,
   "metadata": {},
   "outputs": [],
   "source": [
    "os.chdir(r\"D:\\A李杜若\\留学\\科研\\可视化_王懿芳学姐\\CFPS\\NLS\\1NLSY79\")"
   ]
  },
  {
   "cell_type": "code",
   "execution_count": 3,
   "metadata": {},
   "outputs": [],
   "source": [
    "d = {}\n",
    "d['person_id']=''\n",
    "d['basic_info']={\"gender\":\"\",\n",
    "                 \"age\":0, #birth_year\n",
    "                  \"race\":\"\"}\n",
    "\n",
    "d[\"education\"] = { \n",
    "          \"year\":0,\n",
    "          \"highest_education_rank\":\"\"\n",
    "        }\n",
    "\n",
    "d[\"life_sequence\"] =  []\n",
    "ls = { \"year\":0,\n",
    "    \"marriage_status\":\"\",\n",
    "    \"marriage_status_change\":False,\n",
    "    \"childbearing_status\":True,\n",
    "    \"child_under_18\":True,\n",
    "    'child_under_18_status_change':None, #0,1,2\n",
    "    \"residence\":\"\",\n",
    "    \"migration_status\":True,\n",
    "    \n",
    "    \"isWorking\":True,\n",
    "    \"income\":0,\n",
    "    \"occupation\":0\n",
    "  }\n",
    "\n",
    "d[\"spouse_info\"]= {\n",
    "  \"spouse_id\":\"\",\n",
    "  \"spouse_age\":0,\n",
    "  \"spouse_race\":\"\",\n",
    "  \"spouse_education\": {\n",
    "    \"year\",\n",
    "    \"highest_education_rank\",\n",
    "  },\n",
    "  \"spouse_first_job\": {\n",
    "    \"year\":0,\n",
    "    \"income\":0,\n",
    "    \"occupation\":0,\n",
    "  },\n",
    "  \"spouse_life_sequence\":[]\n",
    "}"
   ]
  },
  {
   "cell_type": "markdown",
   "metadata": {},
   "source": [
    "## input"
   ]
  },
  {
   "cell_type": "code",
   "execution_count": 11,
   "metadata": {},
   "outputs": [],
   "source": [
    "basic_info = pd.read_csv(\"./basic_info.csv\")\n",
    "edu_info = pd.read_csv(\"./edu_info.csv\")\n",
    "job_info = pd.read_csv(\"./job_info.csv\")\n",
    "mar_info = pd.read_csv(\"./marry_info.csv\")\n",
    "res_info = pd.read_csv('./residence_info.csv')\n",
    "childbirth_info = pd.read_csv('./childbirth_year_info.csv')"
   ]
  },
  {
   "cell_type": "code",
   "execution_count": 5,
   "metadata": {},
   "outputs": [],
   "source": [
    "df_id = basic_info[[\"R0000100\"]]"
   ]
  },
  {
   "cell_type": "code",
   "execution_count": 12,
   "metadata": {},
   "outputs": [],
   "source": [
    "n = basic_info.shape[0]\n",
    "# create dictionary list\n",
    "d = {}\n",
    "d['person_id']=''\n",
    "d['basic_info']={\n",
    "    \"gender\":\"\",\n",
    "    \"age\":0, #birth_year\n",
    "    \"race\":\"\",\n",
    "\n",
    "    \"education\": { \n",
    "        \"year\":0,\n",
    "        \"highest_education_level\": \"\", \n",
    "        \"highest_education_name\": \"\",\n",
    "        },\n",
    "    \n",
    "    \"first_job\": {\n",
    "        \"year\":0,\n",
    "        \"income\":0,\n",
    "        \"occupation\":0,\n",
    "        }\n",
    "    }\n",
    "d[\"life_sequence\"] =  []\n",
    "ls = { \"year\":0,\n",
    "    \"marriage_status\":\"\",\n",
    "    \"marriage_status_change\":False,\n",
    "    \"childbearing_status\":True,\n",
    "    \"child_under_18\":True,\n",
    "    'child_under_18_status_change':None, #0,1,2\n",
    "    \"residence\":\"\",\n",
    "    \"migration_status\":True,\n",
    "    \n",
    "    \"isWorking\":True,\n",
    "    \"income\":0,\n",
    "    \"occupation\":0\n",
    "}\n",
    "\n",
    "d[\"spouse_info\"]= {\n",
    "\"spouse_id\":\"\",\n",
    "\"spouse_age\":0,\n",
    "\"spouse_race\":\"\",\n",
    "\"spouse_education\": {\n",
    "    \"year\":0,\n",
    "    \"highest_education_level\": \"\", \n",
    "    \"highest_education_name\": \"\",\n",
    "},\n",
    "\"spouse_first_job\": {\n",
    "    \"year\":0,\n",
    "    \"income\":0,\n",
    "    \"occupation\":0,\n",
    "},\n",
    "\"spouse_life_sequence\":[]\n",
    "}\n",
    "\n",
    "people_dict = [{\"person_id\": str(i+1), 'basic_info': {}, 'life_sequence': [], 'spouse_info': {}} for i in range(n)]"
   ]
  },
  {
   "cell_type": "markdown",
   "metadata": {},
   "source": [
    "## gender, birth, race"
   ]
  },
  {
   "cell_type": "code",
   "execution_count": 13,
   "metadata": {},
   "outputs": [],
   "source": [
    "#1. gender, birth_year, race\n",
    "gender_map = {\n",
    "    1: 'male',\n",
    "    2: 'female'\n",
    "}\n",
    "race_map = {\n",
    "    1: 'hispanic',\n",
    "    2: 'black',\n",
    "    3: 'other'\n",
    "}\n",
    "for idx, person in enumerate(people_dict):\n",
    "    gender = basic_info['R0214800'][idx]\n",
    "    year = basic_info['R0000500'][idx]\n",
    "    race = basic_info['R0214700'][idx]\n",
    "    if gender < 0: \n",
    "        people_dict[idx]['basic_info']['gender'] = None\n",
    "    else:\n",
    "        people_dict[idx]['basic_info']['gender'] = gender_map[gender]\n",
    "    if year < 0: \n",
    "        people_dict[idx]['basic_info']['birth_year'] = None\n",
    "    else:\n",
    "        people_dict[idx]['basic_info']['birth_year'] = int(year + 1900)\n",
    "    if race < 0: \n",
    "        people_dict[idx]['basic_info']['race'] = None\n",
    "    else:\n",
    "        people_dict[idx]['basic_info']['race'] = race_map[race]"
   ]
  },
  {
   "cell_type": "markdown",
   "metadata": {},
   "source": [
    "## education"
   ]
  },
  {
   "cell_type": "code",
   "execution_count": 14,
   "metadata": {},
   "outputs": [],
   "source": [
    "#education\n",
    "#'T9900000':highest_degree_level\n",
    "#'T1215701': year get the highest degree \n",
    "#'T9900000-l': highest_degree_name (created)\n",
    "edu_info[['T9900000-l']]=None\n",
    "for i in range(n):\n",
    "    if 12<=edu_info['T9900000'][i]<=15:\n",
    "        edu_info['T9900000-l'][i]= \"high-school\"\n",
    "    elif 16<=edu_info['T9900000'][i]<=20:\n",
    "        edu_info['T9900000-l'][i]= \"college\"\n",
    "    elif (1<=edu_info['T9900000'][i]<=11)|(93<=edu_info['T9900000'][i]<=95):\n",
    "        edu_info['T9900000-l'][i]= \"high-school-noncompletion\" \n",
    "   "
   ]
  },
  {
   "cell_type": "code",
   "execution_count": 15,
   "metadata": {},
   "outputs": [],
   "source": [
    "index = [0,93,94,95]+[i for i in range(1,21)]\n",
    "name = [None, 'pre_kindergarten', 'kindergarten','ungraded']+['1st grade','2nd grade','3rd grade']+[str(i)+'th grade' for i in range(4,13)]+['1st year college','2nd year college','3rd year college']+[str(i)+'th year college' for i in range(4,8)]+['8th year college or more']\n",
    "degree_map = dict(zip(index,name))"
   ]
  },
  {
   "cell_type": "code",
   "execution_count": 16,
   "metadata": {},
   "outputs": [],
   "source": [
    "for idx, person in enumerate(people_dict):\n",
    "    edu_dict = {'year': None, 'highest_education_level': None, 'highest_education_name': None}\n",
    "    if edu_info['T9900000'][idx]>0:\n",
    "        if edu_info['T1215701'][idx]>0:\n",
    "            edu_dict['year'] = int(edu_info['T1215701'][idx])#json doesn't accept int64\n",
    "        edu_dict['highest_education_name'] = degree_map[edu_info['T9900000'][idx]]\n",
    "        edu_dict['highest_education_level'] = edu_info['T9900000-l'][idx]\n",
    "    person['basic_info']['education'] = edu_dict\n",
    "    "
   ]
  },
  {
   "cell_type": "markdown",
   "metadata": {},
   "source": [
    "## first_job"
   ]
  },
  {
   "cell_type": "code",
   "execution_count": 17,
   "metadata": {},
   "outputs": [],
   "source": [
    "occu_code_list = ['R0046400', 'R0263400', 'R0446400', 'R0702100', 'R0945000',\n",
    "       'R1255400', 'R1650200', 'R1922800', 'R2317600', 'R2525400', 'R2924400',\n",
    "       'R3127100', 'R3522800', 'R3727800', 'R4182100', 'R4587904', 'R5270600',\n",
    "       'R6472600', 'R6591800', 'R7209600', 'R7898000', 'T0138400', 'T1298000',\n",
    "       'T2326500', 'T3308700', 'T4282800', 'T5256900', 'T7818600']\n",
    "\n",
    "inc_code_list = ['R0312300',\n",
    "       'R0482600', 'R0782101', 'R1024001', 'R1410701', 'R1778501', 'R2141601',\n",
    "       'R2350301', 'R2722501', 'R2971401', 'R3279401', 'R3559001', 'R3897101',\n",
    "       'R4295101', 'R4982801', 'R5626201', 'R6364601', 'R6909701', 'R7607800',\n",
    "       'R8316300', 'T0912400', 'T2076700', 'T3045300', 'T3977400', 'T4915800',\n",
    "       'T5619500', 'T8115400', 'income_2018']\n",
    "year_list = [1979,\t1980,\t1981,\t1982,\t1983,\t1984,\t1985,\t1986,\t1987,\t1988,\t1989,\t1990,\t1991,\t1992,\t1993,\t1994,\t1996,\t1998,\t2000,\t2002,\t2004,\t2006,\t2008,\t2010,\t2012,\t2014,\t2016,\t2018]\n",
    "\n",
    "for idx, person in enumerate(people_dict):\n",
    "    first_job_dict = {'year': None, 'income': None, 'occupation': None}\n",
    "    for y_idx, year in enumerate(year_list):\n",
    "        occu = job_info[occu_code_list[y_idx]][idx]\n",
    "        income = job_info[inc_code_list[y_idx]][idx]\n",
    "        if occu > 0 or income > 0:\n",
    "            first_job_dict['year'] = int(year)\n",
    "            if occu > 0:\n",
    "                first_job_dict['occupation'] = int(occu)\n",
    "            if income > 0:\n",
    "                first_job_dict['income'] = int(income)\n",
    "            break       \n",
    "    person['basic_info']['first_job'] = first_job_dict"
   ]
  },
  {
   "cell_type": "markdown",
   "metadata": {},
   "source": [
    "## life_sequence"
   ]
  },
  {
   "cell_type": "code",
   "execution_count": 18,
   "metadata": {},
   "outputs": [],
   "source": [
    "res_code_list = ['R0215200', 'R0393520', 'R0647000', 'R0897900', 'R1146400',\n",
    "       'R1521700', 'R1892400', 'R2259500', 'R2447000', 'R2872800', 'R3076500',\n",
    "       'R3403200', 'R3658600', 'R4009100', 'R4420200', 'R5083200', 'R5168500',\n",
    "       'R6481300', 'R7009000', 'R7706300', 'R8498700', 'T0990500', 'T2212300',\n",
    "       'T3110200', 'T4114700', 'T5026000', 'T5774100', 'T8221300']\n",
    "\n",
    "mar_status_code_list = ['R0217501', 'R0405601', 'R0618601', 'R0898401', 'R1144901',\n",
    "       'R1520101', 'R1890801', 'R2257901', 'R2445301', 'R2871000', 'R3074700',\n",
    "       'R3401400', 'R3656800', 'R4007300', 'R4418400', 'R5081400', 'R5166700',\n",
    "       'R6479300', 'R7007000', 'R7704300', 'R8496700', 'T0988500', 'T2210500',\n",
    "       'T3108400', 'T4112900', 'T5023300', 'T5771200', 'T8219300']\n",
    "\n",
    "occu_code_list = ['R0046400', 'R0263400', 'R0446400', 'R0702100', 'R0945000',\n",
    "       'R1255400', 'R1650200', 'R1922800', 'R2317600', 'R2525400', 'R2924400',\n",
    "       'R3127100', 'R3522800', 'R3727800', 'R4182100', 'R4587904', 'R5270600',\n",
    "       'R6472600', 'R6591800', 'R7209600', 'R7898000', 'T0138400', 'T1298000',\n",
    "       'T2326500', 'T3308700', 'T4282800', 'T5256900', 'T7818600']\n",
    "\n",
    "inc_code_list = ['R0312300',\n",
    "       'R0482600', 'R0782101', 'R1024001', 'R1410701', 'R1778501', 'R2141601',\n",
    "       'R2350301', 'R2722501', 'R2971401', 'R3279401', 'R3559001', 'R3897101',\n",
    "       'R4295101', 'R4982801', 'R5626201', 'R6364601', 'R6909701', 'R7607800',\n",
    "       'R8316300', 'T0912400', 'T2076700', 'T3045300', 'T3977400', 'T4915800',\n",
    "       'T5619500', 'T8115400', 'income_2018']\n",
    "\n",
    "chb_code_list = ['R9900002', 'R9900802', 'R9901602', 'R9902402', 'R9903202','R9904002', 'R9904802', 'R9905602', 'R9906202', 'R9906802', 'R9907402']\n",
    "\n",
    "year_list = [1979,\t1980,\t1981,\t1982,\t1983,\t1984,\t1985,\t1986,\t1987,\t1988,\t1989,\t1990,\t1991,\t1992,\t1993,\t1994,\t1996,\t1998,\t2000,\t2002,\t2004,\t2006,\t2008,\t2010,\t2012,\t2014,\t2016,\t2018]\n",
    "\n",
    "mar_map = {\n",
    "    0: 'never married',\n",
    "    1: 'married',\n",
    "    2: 'seperated',\n",
    "    3: 'divorced',\n",
    "    5: 'remarried',\n",
    "    6: 'widowed'\n",
    "}\n",
    "# 1979-1998\n",
    "res_map1 = {\n",
    "    0: 'not in SMSA',\n",
    "    1: 'SMSA, not in central city',\n",
    "    2: 'SMSE,central city not known',\n",
    "    3: 'SMSA, in central city'\n",
    "}\n",
    "# 2000-2018 different map\n",
    "res_map2 = {\n",
    "    1: ' ',\n",
    "    2: 'SMSA, not in central city',\n",
    "    3: 'SMSE,central city not known',\n",
    "    4: 'SMSA, in central city'\n",
    "}\n",
    "# childbirth_year_map: 从1994开始，直到下一个调查年之前，都算做前一个调查年，如1995年的childbirth算作1994年，这样它会被算入对1996年的影响\n",
    "key_y = [i for i in range(1979,2019)]\n",
    "value_y = [i for i in range(1979,1994)]+list(np.repeat([i for i in range(1994,2020,2)],2))+[2018]\n",
    "childbirth_map = dict(zip(key_y,value_y))"
   ]
  },
  {
   "cell_type": "code",
   "execution_count": 19,
   "metadata": {},
   "outputs": [],
   "source": [
    "for idx, person in enumerate(people_dict):\n",
    "    person['life_sequence']=[]\n",
    "# get childbirth_year data raw list & processed list\n",
    "    child_list = childbirth_info.iloc[idx,1:]\n",
    "    child_year_list0 = list(filter(lambda x: (x>0),child_list))\n",
    "    child_year_list1 = child_year_list0.copy()\n",
    "    for ch_idx, ch_year in enumerate(child_year_list0):\n",
    "           if ch_year>=1979:\n",
    "                  child_year_list1[ch_idx] = childbirth_map[ch_year]\n",
    "    \n",
    "\n",
    "    for y_idx, year in enumerate(year_list):\n",
    "       year_dict = {'year': year, 'marriage_status': None, 'marriage_status_change': None, 'childbearing_status': None, 'child_under_18': None, 'child_under_18_status_change': None, 'residence': None, 'migration_status': None, 'isWorking': None, 'occupation': None, 'income': None \n",
    "       }\n",
    "# marital status\n",
    "       marital_status = mar_info[mar_status_code_list[y_idx]][idx]\n",
    "       if marital_status >= 0:\n",
    "              year_dict['marriage_status'] = mar_map[marital_status]\n",
    "#marital_status_change\n",
    "       if y_idx == 0:\n",
    "              year_dict['marriage_status_change'] = -1\n",
    "       if y_idx > 0 and person['life_sequence'][y_idx - 1]['marriage_status'] != None and year_dict['marriage_status'] != None:\n",
    "              if person['life_sequence'][y_idx - 1]['marriage_status'] != year_dict['marriage_status']:\n",
    "                     year_dict['marriage_status_change'] = True\n",
    "              else: \n",
    "                     year_dict['marriage_status_change'] = False\n",
    "# childbearing_status\n",
    "       if len(child_year_list0) > 0:\n",
    "              if year in child_year_list1:\n",
    "                     year_dict['childbearing_status'] = True\n",
    "              else:\n",
    "                     year_dict['childbearing_status'] = False\n",
    "# child_under_18_status\n",
    "       if len(child_year_list0) > 0:\n",
    "             before_year_list = list(filter(lambda x: (x <= year),child_year_list0)) \n",
    "             if len(before_year_list)==0:\n",
    "                    year_dict['child_under_18'] = False\n",
    "             elif 0<=(year-max(before_year_list))< 18:\n",
    "                    year_dict['child_under_18'] = True\n",
    "             else:\n",
    "                    year_dict['child_under_18'] = False\n",
    "#child_under_18_status_change\n",
    "# 0: 状态不变；\n",
    "# 1: 有小孩(<18岁)--> 无小孩；\n",
    "# 2: 无小孩-->有小孩\n",
    "       if y_idx == 0:\n",
    "              year_dict['child_under_18_status_change'] = -1\n",
    "       if y_idx > 0 and person['life_sequence'][y_idx - 1]['child_under_18'] != None and year_dict['child_under_18'] != None:\n",
    "              if person['life_sequence'][y_idx - 1]['child_under_18'] == year_dict['marriage_status']:\n",
    "                     year_dict['child_under_18_status_change'] = 0\n",
    "              if person['life_sequence'][y_idx - 1]['child_under_18'] == True and year_dict['marriage_status'] == False:\n",
    "                     year_dict['child_under_18_status_change'] = 1\n",
    "              if person['life_sequence'][y_idx - 1]['child_under_18'] == False and year_dict['marriage_status'] == True:\n",
    "                     year_dict['child_under_18_status_change'] = 2          \n",
    "# residence\n",
    "# IS R'S CURRENT RESIDENCE IN SMSA? \n",
    "       residence = res_info[res_code_list[y_idx]][idx]\n",
    "       if year < 2000 and residence >= 0:\n",
    "              year_dict['residence'] = res_map1[residence]\n",
    "       if year >= 2000 and residence >= 0:\n",
    "              year_dict['residence'] = res_map2[residence]       \n",
    "# migration_status\n",
    "       if y_idx == 0:\n",
    "              year_dict['migration_status'] = -1\n",
    "       if y_idx > 0 and person['life_sequence'][y_idx - 1]['residence'] != None and year_dict['residence'] != None:\n",
    "              if person['life_sequence'][y_idx - 1]['residence'] != year_dict['residence']:\n",
    "                     year_dict['migration_status'] = True\n",
    "              else:\n",
    "                     year_dict['migration_status'] = False\n",
    "## job information\n",
    "       occu = job_info[occu_code_list[y_idx]][idx]\n",
    "       income = job_info[inc_code_list[y_idx]][idx]\n",
    "# isworking \n",
    "       if occu > 0 or income > 0:\n",
    "              year_dict['isWorking'] = True\n",
    "       else:\n",
    "              year_dict['isWorking'] = False\n",
    "# occupation\n",
    "       if occu > 0:\n",
    "              year_dict['occupation'] = int(occu)\n",
    "# income\n",
    "       if income > 0:\n",
    "              year_dict['income'] = int(income)  \n",
    "              \n",
    "## 逐个加入个人的life_sequence              \n",
    "       person['life_sequence'].append(year_dict)        "
   ]
  },
  {
   "cell_type": "markdown",
   "metadata": {},
   "source": [
    "## spouse_info"
   ]
  },
  {
   "cell_type": "code",
   "execution_count": 20,
   "metadata": {},
   "outputs": [],
   "source": [
    "## Create spouse_id df\n",
    "df_hh=pd.read_csv(\"./household_spouse_id.csv\")\n",
    "df_spid = pd.DataFrame(columns=['R0000100','SP_ID'])\n",
    "index_rela = ['R0000151','R0000153','R0000155','R0000157']\n",
    "index_spid = ['R0000150','R0000152','R0000154','R0000156']\n",
    "for i in range(4):\n",
    "    d = df_hh[df_hh[index_rela[i]]==1]\n",
    "    dd = d[['R0000100', index_spid[i]]].rename({index_spid[i]:'SP_ID'}, axis=1)\n",
    "    df_spid = df_spid.append(dd)\n",
    "# create spouse_id map\n",
    "spouse_id_map = dict(zip(df_spid['R0000100'], df_spid['SP_ID']))\n",
    "pid_list = df_spid['R0000100']"
   ]
  },
  {
   "cell_type": "code",
   "execution_count": 21,
   "metadata": {},
   "outputs": [],
   "source": [
    "for idx, person in enumerate(people_dict):\n",
    "    person['spouse_info']={\n",
    "        \"spouse_id\":None,\n",
    "        \"spouse_birth_year\":None,\n",
    "        \"spouse_race\":None,\n",
    "        \"spouse_education\": None,\n",
    "        \"spouse_first_job\": None,\n",
    "        \"spouse_life_sequence\":[]\n",
    "    }\n",
    "    \n",
    "    for sp_idx, pid in enumerate(pid_list):\n",
    "        sp_pid = spouse_id_map[pid] \n",
    "        person['spouse_info']['spouse_id'] = int(sp_pid)\n",
    "        person['spouse_info']['spouse_birth_year'] = people_dict[sp_pid]['basic_info']['birth_year']\n",
    "        person['spouse_info']['spouse_race'] = people_dict[sp_pid]['basic_info']['race']\n",
    "        person['spouse_info']['spouse_education'] = people_dict[sp_pid]['basic_info']['education']\n",
    "        person['spouse_info']['spouse_first_job'] = people_dict[sp_pid]['basic_info']['first_job']\n",
    "        person['spouse_info']['spouse_life_sequence'] = people_dict[sp_pid]['life_sequence']"
   ]
  },
  {
   "cell_type": "markdown",
   "metadata": {},
   "source": [
    "## *预处理：合并occu+income处理"
   ]
  },
  {
   "cell_type": "code",
   "execution_count": 30,
   "metadata": {},
   "outputs": [],
   "source": [
    "df0=pd.read_csv(r\"D:\\A李杜若\\留学\\科研\\可视化_王懿芳学姐\\CFPS\\NLS\\NLS79_v2\\NLS_v2.csv\")\n",
    "occu = ['R0000100',\n",
    "  'R0046400',\n",
    "  'R0263400',\n",
    "  'R0446400',\n",
    "  'R0702100',\n",
    "  'R0945000',\n",
    "  'R1255400',\n",
    "  'R1650200',\n",
    "  'R1922800',\n",
    "  'R2317600',\n",
    "  'R2525400',\n",
    "  'R2924400',\n",
    "  'R3127100',\n",
    "  'R3522800',\n",
    "  'R3727800',\n",
    "  'R4182100',\n",
    "  'R4587904',\n",
    "  'R5270600',\n",
    "  'R6472600',\n",
    "  'R6591800',\n",
    "  'R7209600',\n",
    "  'R7898000',\n",
    "  'T0138400',\n",
    "  'T1298000',\n",
    "  'T2326500',\n",
    "  'T3308700',\n",
    "  'T4282800',\n",
    "  'T5256900',\n",
    "  'T7818600']\n",
    "\n",
    "df_occu = df0[occu]"
   ]
  },
  {
   "cell_type": "code",
   "execution_count": 31,
   "metadata": {},
   "outputs": [],
   "source": [
    "df_inc = pd.read_csv(r\"D:\\A李杜若\\留学\\科研\\可视化_王懿芳学姐\\CFPS\\NLS\\NLS79_v2\\R_income.csv\")\n",
    "df_inc1 = df_inc.drop_duplicates(subset=\"R0000100\", keep='first', inplace=False)\n",
    "df_inc1 = df_inc1.drop('R0155400',axis=1)\n",
    "df_inc1['income_2018']=df_inc1.iloc[:,-1]\n",
    "c = pd.merge(df_occu,df_inc1, on='R0000100', how='outer').fillna(-1)\n",
    "c.to_csv(\"./job_info.csv\",index=False)"
   ]
  },
  {
   "cell_type": "markdown",
   "metadata": {},
   "source": [
    "## output"
   ]
  },
  {
   "cell_type": "code",
   "execution_count": 312,
   "metadata": {},
   "outputs": [],
   "source": [
    "##转化np值为原始值 e.g. int64 -> int\n",
    "class NpEncoder(json.JSONEncoder):\n",
    "    def default(self, obj):\n",
    "        if isinstance(obj, np.integer):\n",
    "            return int(obj)\n",
    "        elif isinstance(obj, np.floating):\n",
    "            return float(obj)\n",
    "        elif isinstance(obj, np.ndarray):\n",
    "            return obj.tolist()\n",
    "        elif isinstance(obj, np.bool_):\n",
    "            return super().encode(bool(obj))\n",
    "        else:\n",
    "            return super(NpEncoder, self).default(obj)\n",
    "\n",
    "class CustomJSONizer(json.JSONEncoder):\n",
    "    def default(self, obj):\n",
    "        return super().encode(bool(obj)) \\\n",
    "            if isinstance(obj, np.bool_) \\\n",
    "            else super().default(obj)"
   ]
  },
  {
   "cell_type": "code",
   "execution_count": 22,
   "metadata": {},
   "outputs": [],
   "source": [
    "with open(\"./NLSY79_clean.json\", 'w') as f:\n",
    "    json.dump(people_dict,f,indent = 2,sort_keys=True)"
   ]
  },
  {
   "cell_type": "markdown",
   "metadata": {},
   "source": [
    "## Explore"
   ]
  },
  {
   "cell_type": "markdown",
   "metadata": {},
   "source": [
    "### 婚姻情况变化"
   ]
  },
  {
   "cell_type": "code",
   "execution_count": 16,
   "metadata": {},
   "outputs": [],
   "source": [
    "##婚姻状况不变 vs 变化\n",
    "mar_status_change_sum = {\n",
    "    'not change': 0,\n",
    "    'change': 0,\n",
    "    'None': 0\n",
    "}\n",
    "i=k=j=0\n",
    "for idx, person in enumerate(people_dict):\n",
    "    mar_ch_list = []\n",
    "    y_n = len(person['life_sequence'])\n",
    "    for y_idx, year in enumerate(person['life_sequence']):\n",
    "        mar_ch = year['marriage_status_change']\n",
    "        if mar_ch != None:\n",
    "                mar_ch_list.append(mar_ch)\n",
    "    if len(mar_ch_list)<y_n:\n",
    "        k=k+1\n",
    "    elif True in mar_ch_list:\n",
    "        j=j+1\n",
    "    else:\n",
    "        i=i+1\n",
    "    mar_status_change_sum['change']=i\n",
    "    mar_status_change_sum['not change']=j\n",
    "    mar_status_change_sum['None']=k"
   ]
  },
  {
   "cell_type": "code",
   "execution_count": 17,
   "metadata": {},
   "outputs": [
    {
     "data": {
      "text/plain": [
       "{'not change': 291, 'change': 110, 'None': 12285}"
      ]
     },
     "execution_count": 17,
     "metadata": {},
     "output_type": "execute_result"
    }
   ],
   "source": [
    "mar_status_change_sum # 77.0% not change"
   ]
  },
  {
   "cell_type": "markdown",
   "metadata": {},
   "source": [
    "### 计算Event数目"
   ]
  },
  {
   "cell_type": "code",
   "execution_count": 18,
   "metadata": {},
   "outputs": [],
   "source": [
    "indice = list(range(len(year_list)))\n",
    "year_value = year_list\n",
    "idx_year_map = dict(zip(indice,year_value))\n",
    "have_1st_job_list = [] #每个人的event dict 的 list\n",
    "\n",
    "for idx, person in enumerate(people_dict):\n",
    "    total_num = 0\n",
    "    event_dict = {\n",
    "        'person_id': None,\n",
    "        'first_job_year':None,\n",
    "        'event_n': None,\n",
    "# before 1st job:0\n",
    "# after 1st job:1\n",
    "        \"marriage_status_change\":{\n",
    "            'n':None,\n",
    "            'happen_time':None\n",
    "        }, \n",
    "        \"childbearing_status\":{\n",
    "            'n':None,\n",
    "            'happen_time':None\n",
    "        },\n",
    "        'child_under_18_status_change':{\n",
    "            'n':None,\n",
    "            'happen_time':None\n",
    "        },\n",
    "        'migration_status':{\n",
    "            'n':None,\n",
    "            'happen_time':None\n",
    "        },\n",
    "    }\n",
    "# only take person who has first_job record\n",
    "    job_year = person['basic_info']['first_job']['year']\n",
    "    if job_year!=None:\n",
    "        event_dict['person_id'] = person['person_id']\n",
    "        event_dict['first_job_year'] = job_year\n",
    "    \n",
    "        df = pd.DataFrame.from_dict(person['life_sequence'])\n",
    "        df = df.replace({np.nan: None})\n",
    "    # status_change events(marriage, child_u18, migration)\n",
    "    # childbearing 没有-1\n",
    "    # len(!=0)-1>=1, since first is -1\n",
    "        status_event_list = [\"marriage_status_change\", \"childbearing_status\", 'child_under_18_status_change', \"migration_status\"]\n",
    "        for e_idx, event in enumerate(status_event_list):\n",
    "            event_list = df[event]\n",
    "            happen_list = list(filter(None, event_list))\n",
    "            if (-1 in happen_list):\n",
    "                happen_list.remove(-1)\n",
    "            num = len(happen_list)\n",
    "            if num > 0:\n",
    "                event_dict[event]['n'] = num\n",
    "                total_num = total_num + num\n",
    "            # get all index of True\n",
    "                y_idx_list = [i for i,val in enumerate(event_list) if (val!=None and val!=0 and val!=-1)]\n",
    "            # < 1st job year:'before' vs >= 1st job year:'after'\n",
    "                comp_list = []\n",
    "                for y_idx in y_idx_list:\n",
    "                    if idx_year_map[y_idx] < job_year:\n",
    "                        comp_dict = {\n",
    "                            'year': int(idx_year_map[y_idx]),\n",
    "                            'compare': 'before' }\n",
    "                    else:\n",
    "                        comp_dict = {\n",
    "                            'year': int(idx_year_map[y_idx]),\n",
    "                            'compare': 'after' }\n",
    "                    comp_list.append(comp_dict)       \n",
    "                    \n",
    "                event_dict[event]['happen_time'] = comp_list\n",
    "\n",
    "        \n",
    "        event_dict['event_n'] = total_num\n",
    "        have_1st_job_list.append(event_dict)           \n",
    "\n",
    "            "
   ]
  },
  {
   "cell_type": "code",
   "execution_count": 23,
   "metadata": {},
   "outputs": [],
   "source": [
    "with open(\"./NLSY79_event.json\", 'w') as f:\n",
    "    json.dump(have_1st_job_list,f, indent = 2, sort_keys=True)"
   ]
  },
  {
   "cell_type": "code",
   "execution_count": 19,
   "metadata": {},
   "outputs": [
    {
     "data": {
      "text/plain": [
       "11431"
      ]
     },
     "execution_count": 19,
     "metadata": {},
     "output_type": "execute_result"
    }
   ],
   "source": [
    "# event number >=1\n",
    "len([i for i in have_1st_job_list if i['event_n']>0])"
   ]
  },
  {
   "cell_type": "code",
   "execution_count": 20,
   "metadata": {},
   "outputs": [
    {
     "data": {
      "text/plain": [
       "10393"
      ]
     },
     "execution_count": 20,
     "metadata": {},
     "output_type": "execute_result"
    }
   ],
   "source": [
    "# event number >=2\n",
    "len([i for i in have_1st_job_list if i['event_n']>1])"
   ]
  },
  {
   "cell_type": "code",
   "execution_count": 21,
   "metadata": {},
   "outputs": [
    {
     "data": {
      "text/plain": [
       "9119"
      ]
     },
     "execution_count": 21,
     "metadata": {},
     "output_type": "execute_result"
    }
   ],
   "source": [
    "# event number >=3\n",
    "len([i for i in have_1st_job_list if i['event_n']>2 ])"
   ]
  },
  {
   "cell_type": "code",
   "execution_count": 22,
   "metadata": {},
   "outputs": [
    {
     "data": {
      "text/plain": [
       "(709, 893)"
      ]
     },
     "execution_count": 22,
     "metadata": {},
     "output_type": "execute_result"
    }
   ],
   "source": [
    "## occupation/income每年都有有效值\n",
    "## 得到 person_id\n",
    "occu_full_id_list = []\n",
    "income_full_id_list = []\n",
    "for idx, person in enumerate(people_dict):\n",
    "    df = pd.DataFrame.from_dict(person['life_sequence']).replace({np.nan: None})\n",
    "    occu_sequence = list(df['occupation'])\n",
    "    if None not in occu_sequence:\n",
    "        occu_full_id_list.append(person['person_id'])\n",
    "    income_sequence = df['income']\n",
    "    if None not in list(income_sequence):\n",
    "        income_full_id_list.append(person['person_id'])\n",
    "  \n",
    "len(occu_full_id_list),len(income_full_id_list)"
   ]
  },
  {
   "cell_type": "code",
   "execution_count": 24,
   "metadata": {},
   "outputs": [
    {
     "data": {
      "text/plain": [
       "893"
      ]
     },
     "execution_count": 24,
     "metadata": {},
     "output_type": "execute_result"
    }
   ],
   "source": [
    "##验证\n",
    "df1=job_info[inc_code_list].replace([-5,-4,-3,-2,-1,0], np.nan)\n",
    "df1.dropna(axis=0,how='any').shape[0]"
   ]
  },
  {
   "cell_type": "code",
   "execution_count": 27,
   "metadata": {},
   "outputs": [
    {
     "data": {
      "text/plain": [
       "698"
      ]
     },
     "execution_count": 27,
     "metadata": {},
     "output_type": "execute_result"
    }
   ],
   "source": [
    "## occu + 1/2/3\n",
    "# event number >=1\n",
    "len([i for i in have_1st_job_list if i['event_n']>0 and i['person_id'] in occu_full_id_list]) #698\n",
    "# event number >=2\n",
    "len([i for i in have_1st_job_list if i['event_n']>1 and i['person_id'] in occu_full_id_list]) #677\n",
    "# event number >=3\n",
    "len([i for i in have_1st_job_list if i['event_n']>2 and i['person_id'] in occu_full_id_list ]) # 621"
   ]
  },
  {
   "cell_type": "code",
   "execution_count": 30,
   "metadata": {},
   "outputs": [
    {
     "data": {
      "text/plain": [
       "881"
      ]
     },
     "execution_count": 30,
     "metadata": {},
     "output_type": "execute_result"
    }
   ],
   "source": [
    "## income + 1/2/3\n",
    "# event number >=1\n",
    "len([i for i in have_1st_job_list if i['event_n']>0 and i['person_id'] in income_full_id_list]) #881\n",
    "# event number >=2\n",
    "len([i for i in have_1st_job_list if i['event_n']>1 and i['person_id'] in income_full_id_list]) #859\n",
    "# event number >=3\n",
    "len([i for i in have_1st_job_list if i['event_n']>2 and i['person_id'] in income_full_id_list ]) # 806"
   ]
  }
 ],
 "metadata": {
  "interpreter": {
   "hash": "ec2bbd1a6bb0ffd7e2416afc0eb843ffc995c8a0c7f30368c51cc26c1d65c7be"
  },
  "kernelspec": {
   "display_name": "Python 3.8.8 64-bit ('base': conda)",
   "language": "python",
   "name": "python3"
  },
  "language_info": {
   "codemirror_mode": {
    "name": "ipython",
    "version": 3
   },
   "file_extension": ".py",
   "mimetype": "text/x-python",
   "name": "python",
   "nbconvert_exporter": "python",
   "pygments_lexer": "ipython3",
   "version": "3.8.8"
  },
  "orig_nbformat": 4
 },
 "nbformat": 4,
 "nbformat_minor": 2
}
